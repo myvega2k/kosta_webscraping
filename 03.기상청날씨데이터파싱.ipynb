{
 "cells": [
  {
   "cell_type": "markdown",
   "id": "62eda278",
   "metadata": {},
   "source": [
    "### 기상청 날씨 데이터 파싱\n",
    "* BeautifulSoup의 find(), find_all() 함수 사용\n",
    "* 파싱한 데이터를 List, Dict 에 저장\n",
    "* Json file로 저장"
   ]
  },
  {
   "cell_type": "code",
   "execution_count": 11,
   "id": "dbbd027f",
   "metadata": {},
   "outputs": [
    {
     "name": "stdout",
     "output_type": "stream",
     "text": [
      "200\n",
      "find : <class 'bs4.element.Tag'>\n",
      "<title>기상청 육상 중기예보</title>\n",
      "기상청 육상 중기예보\n",
      "------------\n",
      "find_all : <class 'bs4.element.ResultSet'>\n",
      "[<title>기상청 육상 중기예보</title>, <title>전국 육상 중기예보 - 2021년 10월 07일 (목)요일 06:00 발표</title>, <title>전국 육상중기예보</title>]\n",
      "기상청 육상 중기예보\n",
      "전국 육상 중기예보 - 2021년 10월 07일 (목)요일 06:00 발표\n",
      "전국 육상중기예보\n"
     ]
    }
   ],
   "source": [
    "import requests\n",
    "from bs4 import BeautifulSoup\n",
    "\n",
    "url = \"http://www.kma.go.kr/weather/forecast/mid-term-rss3.jsp\"\n",
    "res = requests.get(url)\n",
    "print(res.status_code)\n",
    "soup = BeautifulSoup(res.text, 'html.parser')\n",
    "\n",
    "print('find :', type(soup.find('title')))\n",
    "print(soup.find('title'))\n",
    "print(soup.find('title').text)\n",
    "print('------------')\n",
    "print('find_all :', type(soup.find_all('title')))\n",
    "print(soup.find_all('title'))\n",
    "for title in soup.find_all('title'):\n",
    "    print(title.text)"
   ]
  },
  {
   "cell_type": "code",
   "execution_count": 14,
   "id": "08680178",
   "metadata": {},
   "outputs": [
    {
     "name": "stdout",
     "output_type": "stream",
     "text": [
      "select_one  <class 'bs4.element.Tag'>\n",
      "<title>기상청 육상 중기예보</title>\n",
      "기상청 육상 중기예보\n"
     ]
    }
   ],
   "source": [
    "print('select_one ', type(soup.select_one('title')))\n",
    "print(soup.select_one('title'))\n",
    "print(soup.select_one('title').text)"
   ]
  },
  {
   "cell_type": "code",
   "execution_count": 15,
   "id": "64185e0c",
   "metadata": {},
   "outputs": [
    {
     "name": "stdout",
     "output_type": "stream",
     "text": [
      "select : <class 'bs4.element.ResultSet'>\n",
      "[<title>기상청 육상 중기예보</title>, <title>전국 육상 중기예보 - 2021년 10월 07일 (목)요일 06:00 발표</title>, <title>전국 육상중기예보</title>]\n",
      "기상청 육상 중기예보\n",
      "전국 육상 중기예보 - 2021년 10월 07일 (목)요일 06:00 발표\n",
      "전국 육상중기예보\n"
     ]
    }
   ],
   "source": [
    "print('select :', type(soup.select('title')))\n",
    "print(soup.select('title'))\n",
    "for title in soup.select('title'):\n",
    "    print(title.text)"
   ]
  },
  {
   "cell_type": "code",
   "execution_count": 26,
   "id": "19124b6b",
   "metadata": {},
   "outputs": [
    {
     "name": "stdout",
     "output_type": "stream",
     "text": [
      "<class 'bs4.element.Tag'>\n",
      "서울ㆍ인천ㆍ경기도\n",
      "서울\n"
     ]
    }
   ],
   "source": [
    "location_one = soup.find('location',attrs={\"wl_ver\":\"3\"})\n",
    "print(type(location_one))\n",
    "province = location_one.find('province').text\n",
    "print(province)\n",
    "city = location_one.find('city').text\n",
    "print(city)\n",
    "\n"
   ]
  },
  {
   "cell_type": "code",
   "execution_count": 24,
   "id": "187b7a92",
   "metadata": {},
   "outputs": [
    {
     "data": {
      "text/plain": [
       "<location wl_ver=\"3\">\n",
       "<province>서울ㆍ인천ㆍ경기도</province>\n",
       "<city>서울</city>\n",
       "<data>\n",
       "<mode>A02</mode>\n",
       "<tmef>2021-10-10 00:00</tmef>\n",
       "<wf>구름많음</wf>\n",
       "<tmn>20</tmn>\n",
       "<tmx>25</tmx>\n",
       "<reliability></reliability>\n",
       "<rnst>30</rnst>\n",
       "</data>\n",
       "<data>\n",
       "<mode>A02</mode>\n",
       "<tmef>2021-10-10 12:00</tmef>\n",
       "<wf>구름많고 비</wf>\n",
       "<tmn>20</tmn>\n",
       "<tmx>25</tmx>\n",
       "<reliability></reliability>\n",
       "<rnst>90</rnst>\n",
       "</data>\n",
       "<data>\n",
       "<mode>A02</mode>\n",
       "<tmef>2021-10-11 00:00</tmef>\n",
       "<wf>구름많음</wf>\n",
       "<tmn>14</tmn>\n",
       "<tmx>22</tmx>\n",
       "<reliability></reliability>\n",
       "<rnst>30</rnst>\n",
       "</data>\n",
       "<data>\n",
       "<mode>A02</mode>\n",
       "<tmef>2021-10-11 12:00</tmef>\n",
       "<wf>맑음</wf>\n",
       "<tmn>14</tmn>\n",
       "<tmx>22</tmx>\n",
       "<reliability></reliability>\n",
       "<rnst>10</rnst>\n",
       "</data>\n",
       "<data>\n",
       "<mode>A02</mode>\n",
       "<tmef>2021-10-12 00:00</tmef>\n",
       "<wf>맑음</wf>\n",
       "<tmn>14</tmn>\n",
       "<tmx>24</tmx>\n",
       "<reliability></reliability>\n",
       "<rnst>10</rnst>\n",
       "</data>\n",
       "<data>\n",
       "<mode>A02</mode>\n",
       "<tmef>2021-10-12 12:00</tmef>\n",
       "<wf>맑음</wf>\n",
       "<tmn>14</tmn>\n",
       "<tmx>24</tmx>\n",
       "<reliability></reliability>\n",
       "<rnst>0</rnst>\n",
       "</data>\n",
       "<data>\n",
       "<mode>A02</mode>\n",
       "<tmef>2021-10-13 00:00</tmef>\n",
       "<wf>맑음</wf>\n",
       "<tmn>15</tmn>\n",
       "<tmx>25</tmx>\n",
       "<reliability></reliability>\n",
       "<rnst>0</rnst>\n",
       "</data>\n",
       "<data>\n",
       "<mode>A02</mode>\n",
       "<tmef>2021-10-13 12:00</tmef>\n",
       "<wf>맑음</wf>\n",
       "<tmn>15</tmn>\n",
       "<tmx>25</tmx>\n",
       "<reliability></reliability>\n",
       "<rnst>10</rnst>\n",
       "</data>\n",
       "<data>\n",
       "<mode>A02</mode>\n",
       "<tmef>2021-10-14 00:00</tmef>\n",
       "<wf>맑음</wf>\n",
       "<tmn>15</tmn>\n",
       "<tmx>24</tmx>\n",
       "<reliability></reliability>\n",
       "<rnst>10</rnst>\n",
       "</data>\n",
       "<data>\n",
       "<mode>A02</mode>\n",
       "<tmef>2021-10-14 12:00</tmef>\n",
       "<wf>맑음</wf>\n",
       "<tmn>15</tmn>\n",
       "<tmx>24</tmx>\n",
       "<reliability></reliability>\n",
       "<rnst>10</rnst>\n",
       "</data>\n",
       "<data>\n",
       "<mode>A01</mode>\n",
       "<tmef>2021-10-15 00:00</tmef>\n",
       "<wf>구름많음</wf>\n",
       "<tmn>15</tmn>\n",
       "<tmx>20</tmx>\n",
       "<reliability></reliability>\n",
       "<rnst>30</rnst>\n",
       "</data>\n",
       "<data>\n",
       "<mode>A01</mode>\n",
       "<tmef>2021-10-16 00:00</tmef>\n",
       "<wf>구름많음</wf>\n",
       "<tmn>11</tmn>\n",
       "<tmx>19</tmx>\n",
       "<reliability></reliability>\n",
       "<rnst>30</rnst>\n",
       "</data>\n",
       "<data>\n",
       "<mode>A01</mode>\n",
       "<tmef>2021-10-17 00:00</tmef>\n",
       "<wf>맑음</wf>\n",
       "<tmn>10</tmn>\n",
       "<tmx>18</tmx>\n",
       "<reliability></reliability>\n",
       "<rnst>20</rnst>\n",
       "</data>\n",
       "</location>"
      ]
     },
     "execution_count": 24,
     "metadata": {},
     "output_type": "execute_result"
    }
   ],
   "source": [
    "location_one2 = soup.select_one(\"location[wl_ver='3']\")\n",
    "location_one2"
   ]
  },
  {
   "cell_type": "code",
   "execution_count": null,
   "id": "42027b9b",
   "metadata": {},
   "outputs": [],
   "source": []
  }
 ],
 "metadata": {
  "kernelspec": {
   "display_name": "Python 3",
   "language": "python",
   "name": "python3"
  },
  "language_info": {
   "codemirror_mode": {
    "name": "ipython",
    "version": 3
   },
   "file_extension": ".py",
   "mimetype": "text/x-python",
   "name": "python",
   "nbconvert_exporter": "python",
   "pygments_lexer": "ipython3",
   "version": "3.8.8"
  }
 },
 "nbformat": 4,
 "nbformat_minor": 5
}
