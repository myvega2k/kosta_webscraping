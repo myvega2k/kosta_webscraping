{
 "cells": [
  {
   "cell_type": "markdown",
   "id": "e5e2e5b4",
   "metadata": {},
   "source": [
    "### 기상청 날씨 데이터 파싱\n",
    "* BeautifulSoup의 find(), find_all() 함수 사용\n",
    "* 파싱한 데이터를 List, Dict 에 저장\n",
    "* Json file로 저장"
   ]
  },
  {
   "cell_type": "code",
   "execution_count": 11,
   "id": "7463a67d",
   "metadata": {},
   "outputs": [
    {
     "name": "stdout",
     "output_type": "stream",
     "text": [
      "200\n",
      "find : <class 'bs4.element.Tag'>\n",
      "<title>기상청 육상 중기예보</title>\n",
      "기상청 육상 중기예보\n",
      "------------\n",
      "find_all : <class 'bs4.element.ResultSet'>\n",
      "[<title>기상청 육상 중기예보</title>, <title>전국 육상 중기예보 - 2021년 10월 07일 (목)요일 06:00 발표</title>, <title>전국 육상중기예보</title>]\n",
      "기상청 육상 중기예보\n",
      "전국 육상 중기예보 - 2021년 10월 07일 (목)요일 06:00 발표\n",
      "전국 육상중기예보\n"
     ]
    }
   ],
   "source": [
    "import requests\n",
    "from bs4 import BeautifulSoup\n",
    "\n",
    "url = \"http://www.kma.go.kr/weather/forecast/mid-term-rss3.jsp\"\n",
    "res = requests.get(url)\n",
    "print(res.status_code)\n",
    "soup = BeautifulSoup(res.text, 'html.parser')\n",
    "\n",
    "print('find :', type(soup.find('title')))\n",
    "print(soup.find('title'))\n",
    "print(soup.find('title').text)\n",
    "print('------------')\n",
    "print('find_all :', type(soup.find_all('title')))\n",
    "print(soup.find_all('title'))\n",
    "for title in soup.find_all('title'):\n",
    "    print(title.text)"
   ]
  },
  {
   "cell_type": "code",
   "execution_count": 14,
   "id": "d13ba272",
   "metadata": {},
   "outputs": [
    {
     "name": "stdout",
     "output_type": "stream",
     "text": [
      "select_one  <class 'bs4.element.Tag'>\n",
      "<title>기상청 육상 중기예보</title>\n",
      "기상청 육상 중기예보\n"
     ]
    }
   ],
   "source": [
    "print('select_one ', type(soup.select_one('title')))\n",
    "print(soup.select_one('title'))\n",
    "print(soup.select_one('title').text)"
   ]
  },
  {
   "cell_type": "code",
   "execution_count": 15,
   "id": "61582961",
   "metadata": {},
   "outputs": [
    {
     "name": "stdout",
     "output_type": "stream",
     "text": [
      "select : <class 'bs4.element.ResultSet'>\n",
      "[<title>기상청 육상 중기예보</title>, <title>전국 육상 중기예보 - 2021년 10월 07일 (목)요일 06:00 발표</title>, <title>전국 육상중기예보</title>]\n",
      "기상청 육상 중기예보\n",
      "전국 육상 중기예보 - 2021년 10월 07일 (목)요일 06:00 발표\n",
      "전국 육상중기예보\n"
     ]
    }
   ],
   "source": [
    "print('select :', type(soup.select('title')))\n",
    "print(soup.select('title'))\n",
    "for title in soup.select('title'):\n",
    "    print(title.text)"
   ]
  },
  {
   "cell_type": "code",
   "execution_count": 29,
   "id": "91837f9e",
   "metadata": {},
   "outputs": [
    {
     "name": "stdout",
     "output_type": "stream",
     "text": [
      "<class 'bs4.element.Tag'>\n",
      "서울ㆍ인천ㆍ경기도\n",
      "서울\n",
      "13\n",
      "A02 2021-10-10 00:00\n",
      "A02 2021-10-10 12:00\n",
      "A02 2021-10-11 00:00\n",
      "A02 2021-10-11 12:00\n",
      "A02 2021-10-12 00:00\n",
      "A02 2021-10-12 12:00\n",
      "A02 2021-10-13 00:00\n",
      "A02 2021-10-13 12:00\n",
      "A02 2021-10-14 00:00\n",
      "A02 2021-10-14 12:00\n",
      "A01 2021-10-15 00:00\n",
      "A01 2021-10-16 00:00\n",
      "A01 2021-10-17 00:00\n"
     ]
    }
   ],
   "source": [
    "location_one = soup.find('location',attrs={\"wl_ver\":\"3\"})\n",
    "print(type(location_one))\n",
    "province = location_one.find('province').text\n",
    "print(province)\n",
    "city = location_one.find('city').text\n",
    "print(city)\n",
    "\n",
    "data_all = location_one.find_all('data')\n",
    "print(len(data_all))\n",
    "for data in data_all:\n",
    "    #print(data)\n",
    "    mode = data.find('mode').text\n",
    "    tmef = data.find('tmef').text\n",
    "    print(mode, tmef)"
   ]
  },
  {
   "cell_type": "code",
   "execution_count": 30,
   "id": "9459d7f8",
   "metadata": {},
   "outputs": [],
   "source": [
    "location_one2 = soup.select_one(\"location[wl_ver='3']\")\n",
    "#location_one2"
   ]
  },
  {
   "cell_type": "markdown",
   "id": "940911b5",
   "metadata": {},
   "source": [
    "### 전국의 날씨 데이터를 list에 dict에 저장하기"
   ]
  },
  {
   "cell_type": "code",
   "execution_count": 32,
   "id": "586eb972",
   "metadata": {},
   "outputs": [
    {
     "name": "stdout",
     "output_type": "stream",
     "text": [
      "200\n"
     ]
    }
   ],
   "source": [
    "import requests\n",
    "from bs4 import BeautifulSoup\n",
    "\n",
    "url = \"http://www.kma.go.kr/weather/forecast/mid-term-rss3.jsp\"\n",
    "res = requests.get(url)\n",
    "if res.ok:\n",
    "    print(res.status_code)\n",
    "    soup = BeautifulSoup(res.text, 'html.parser')\n",
    "\n",
    "    print(len(soup.find_all()))"
   ]
  },
  {
   "cell_type": "code",
   "execution_count": null,
   "id": "7f5e181e",
   "metadata": {},
   "outputs": [],
   "source": []
  },
  {
   "cell_type": "code",
   "execution_count": null,
   "id": "08044daa",
   "metadata": {},
   "outputs": [],
   "source": []
  }
 ],
 "metadata": {
  "kernelspec": {
   "display_name": "Python 3",
   "language": "python",
   "name": "python3"
  },
  "language_info": {
   "codemirror_mode": {
    "name": "ipython",
    "version": 3
   },
   "file_extension": ".py",
   "mimetype": "text/x-python",
   "name": "python",
   "nbconvert_exporter": "python",
   "pygments_lexer": "ipython3",
   "version": "3.8.8"
  }
 },
 "nbformat": 4,
 "nbformat_minor": 5
}
