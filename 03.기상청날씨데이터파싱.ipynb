{
 "cells": [
  {
   "cell_type": "markdown",
   "id": "7a704172",
   "metadata": {},
   "source": [
    "### 기상청 날씨 데이터 파싱\n",
    "* BeautifulSoup의 find(), find_all() 함수 사용\n",
    "* 파싱한 데이터를 List, Dict 에 저장\n",
    "* Json file로 저장"
   ]
  },
  {
   "cell_type": "code",
   "execution_count": 11,
   "id": "34b8da3b",
   "metadata": {},
   "outputs": [
    {
     "name": "stdout",
     "output_type": "stream",
     "text": [
      "200\n",
      "find : <class 'bs4.element.Tag'>\n",
      "<title>기상청 육상 중기예보</title>\n",
      "기상청 육상 중기예보\n",
      "------------\n",
      "find_all : <class 'bs4.element.ResultSet'>\n",
      "[<title>기상청 육상 중기예보</title>, <title>전국 육상 중기예보 - 2021년 10월 07일 (목)요일 06:00 발표</title>, <title>전국 육상중기예보</title>]\n",
      "기상청 육상 중기예보\n",
      "전국 육상 중기예보 - 2021년 10월 07일 (목)요일 06:00 발표\n",
      "전국 육상중기예보\n"
     ]
    }
   ],
   "source": [
    "import requests\n",
    "from bs4 import BeautifulSoup\n",
    "\n",
    "url = \"http://www.kma.go.kr/weather/forecast/mid-term-rss3.jsp\"\n",
    "res = requests.get(url)\n",
    "print(res.status_code)\n",
    "soup = BeautifulSoup(res.text, 'html.parser')\n",
    "\n",
    "print('find :', type(soup.find('title')))\n",
    "print(soup.find('title'))\n",
    "print(soup.find('title').text)\n",
    "print('------------')\n",
    "print('find_all :', type(soup.find_all('title')))\n",
    "print(soup.find_all('title'))\n",
    "for title in soup.find_all('title'):\n",
    "    print(title.text)"
   ]
  },
  {
   "cell_type": "code",
   "execution_count": 14,
   "id": "5bd8e5df",
   "metadata": {},
   "outputs": [
    {
     "name": "stdout",
     "output_type": "stream",
     "text": [
      "select_one  <class 'bs4.element.Tag'>\n",
      "<title>기상청 육상 중기예보</title>\n",
      "기상청 육상 중기예보\n"
     ]
    }
   ],
   "source": [
    "print('select_one ', type(soup.select_one('title')))\n",
    "print(soup.select_one('title'))\n",
    "print(soup.select_one('title').text)"
   ]
  },
  {
   "cell_type": "code",
   "execution_count": 15,
   "id": "9459365b",
   "metadata": {},
   "outputs": [
    {
     "name": "stdout",
     "output_type": "stream",
     "text": [
      "select : <class 'bs4.element.ResultSet'>\n",
      "[<title>기상청 육상 중기예보</title>, <title>전국 육상 중기예보 - 2021년 10월 07일 (목)요일 06:00 발표</title>, <title>전국 육상중기예보</title>]\n",
      "기상청 육상 중기예보\n",
      "전국 육상 중기예보 - 2021년 10월 07일 (목)요일 06:00 발표\n",
      "전국 육상중기예보\n"
     ]
    }
   ],
   "source": [
    "print('select :', type(soup.select('title')))\n",
    "print(soup.select('title'))\n",
    "for title in soup.select('title'):\n",
    "    print(title.text)"
   ]
  },
  {
   "cell_type": "code",
   "execution_count": 29,
   "id": "19dfb7c4",
   "metadata": {},
   "outputs": [
    {
     "name": "stdout",
     "output_type": "stream",
     "text": [
      "<class 'bs4.element.Tag'>\n",
      "서울ㆍ인천ㆍ경기도\n",
      "서울\n",
      "13\n",
      "A02 2021-10-10 00:00\n",
      "A02 2021-10-10 12:00\n",
      "A02 2021-10-11 00:00\n",
      "A02 2021-10-11 12:00\n",
      "A02 2021-10-12 00:00\n",
      "A02 2021-10-12 12:00\n",
      "A02 2021-10-13 00:00\n",
      "A02 2021-10-13 12:00\n",
      "A02 2021-10-14 00:00\n",
      "A02 2021-10-14 12:00\n",
      "A01 2021-10-15 00:00\n",
      "A01 2021-10-16 00:00\n",
      "A01 2021-10-17 00:00\n"
     ]
    }
   ],
   "source": [
    "location_one = soup.find('location',attrs={\"wl_ver\":\"3\"})\n",
    "print(type(location_one))\n",
    "province = location_one.find('province').text\n",
    "print(province)\n",
    "city = location_one.find('city').text\n",
    "print(city)\n",
    "\n",
    "data_all = location_one.find_all('data')\n",
    "print(len(data_all))\n",
    "for data in data_all:\n",
    "    #print(data)\n",
    "    mode = data.find('mode').text\n",
    "    tmef = data.find('tmef').text\n",
    "    print(mode, tmef)"
   ]
  },
  {
   "cell_type": "code",
   "execution_count": 30,
   "id": "62da1683",
   "metadata": {},
   "outputs": [],
   "source": [
    "location_one2 = soup.select_one(\"location[wl_ver='3']\")\n",
    "#location_one2"
   ]
  },
  {
   "cell_type": "markdown",
   "id": "97c667e2",
   "metadata": {},
   "source": [
    "### 전국의 날씨 데이터를 list에 dict에 저장하기"
   ]
  },
  {
   "cell_type": "code",
   "execution_count": 44,
   "id": "6e42fc25",
   "metadata": {},
   "outputs": [
    {
     "name": "stdout",
     "output_type": "stream",
     "text": [
      "200\n",
      "41\n",
      "41\n",
      "[{'province': '서울ㆍ인천ㆍ경기도', 'city': '서울', 'datas': [{'mode': 'A02', 'tmef': '2021-10-10 00:00', 'wf': '구름많음', 'tmn': '20', 'tmx': '25'}, {'mode': 'A02', 'tmef': '2021-10-10 12:00', 'wf': '구름많고 비', 'tmn': '20', 'tmx': '25'}, {'mode': 'A02', 'tmef': '2021-10-11 00:00', 'wf': '구름많음', 'tmn': '14', 'tmx': '22'}, {'mode': 'A02', 'tmef': '2021-10-11 12:00', 'wf': '맑음', 'tmn': '14', 'tmx': '22'}, {'mode': 'A02', 'tmef': '2021-10-12 00:00', 'wf': '맑음', 'tmn': '14', 'tmx': '24'}, {'mode': 'A02', 'tmef': '2021-10-12 12:00', 'wf': '맑음', 'tmn': '14', 'tmx': '24'}, {'mode': 'A02', 'tmef': '2021-10-13 00:00', 'wf': '맑음', 'tmn': '15', 'tmx': '25'}, {'mode': 'A02', 'tmef': '2021-10-13 12:00', 'wf': '맑음', 'tmn': '15', 'tmx': '25'}, {'mode': 'A02', 'tmef': '2021-10-14 00:00', 'wf': '맑음', 'tmn': '15', 'tmx': '24'}, {'mode': 'A02', 'tmef': '2021-10-14 12:00', 'wf': '맑음', 'tmn': '15', 'tmx': '24'}, {'mode': 'A01', 'tmef': '2021-10-15 00:00', 'wf': '구름많음', 'tmn': '15', 'tmx': '20'}, {'mode': 'A01', 'tmef': '2021-10-16 00:00', 'wf': '구름많음', 'tmn': '11', 'tmx': '19'}, {'mode': 'A01', 'tmef': '2021-10-17 00:00', 'wf': '맑음', 'tmn': '10', 'tmx': '18'}]}, {'province': '서울ㆍ인천ㆍ경기도', 'city': '인천', 'datas': [{'mode': 'A02', 'tmef': '2021-10-10 00:00', 'wf': '구름많음', 'tmn': '21', 'tmx': '24'}, {'mode': 'A02', 'tmef': '2021-10-10 12:00', 'wf': '구름많고 비', 'tmn': '21', 'tmx': '24'}, {'mode': 'A02', 'tmef': '2021-10-11 00:00', 'wf': '구름많음', 'tmn': '15', 'tmx': '21'}, {'mode': 'A02', 'tmef': '2021-10-11 12:00', 'wf': '맑음', 'tmn': '15', 'tmx': '21'}, {'mode': 'A02', 'tmef': '2021-10-12 00:00', 'wf': '맑음', 'tmn': '15', 'tmx': '23'}, {'mode': 'A02', 'tmef': '2021-10-12 12:00', 'wf': '맑음', 'tmn': '15', 'tmx': '23'}, {'mode': 'A02', 'tmef': '2021-10-13 00:00', 'wf': '맑음', 'tmn': '15', 'tmx': '24'}, {'mode': 'A02', 'tmef': '2021-10-13 12:00', 'wf': '맑음', 'tmn': '15', 'tmx': '24'}, {'mode': 'A02', 'tmef': '2021-10-14 00:00', 'wf': '맑음', 'tmn': '16', 'tmx': '23'}, {'mode': 'A02', 'tmef': '2021-10-14 12:00', 'wf': '맑음', 'tmn': '16', 'tmx': '23'}, {'mode': 'A01', 'tmef': '2021-10-15 00:00', 'wf': '구름많음', 'tmn': '15', 'tmx': '20'}, {'mode': 'A01', 'tmef': '2021-10-16 00:00', 'wf': '구름많음', 'tmn': '12', 'tmx': '17'}, {'mode': 'A01', 'tmef': '2021-10-17 00:00', 'wf': '맑음', 'tmn': '12', 'tmx': '18'}]}]\n"
     ]
    }
   ],
   "source": [
    "import requests\n",
    "from bs4 import BeautifulSoup\n",
    "\n",
    "url = \"http://www.kma.go.kr/weather/forecast/mid-term-rss3.jsp\"\n",
    "res = requests.get(url)\n",
    "if res.ok:\n",
    "    print(res.status_code)\n",
    "    soup = BeautifulSoup(res.text, 'html.parser')\n",
    "\n",
    "    print(len(soup.find_all('location',attrs={\"wl_ver\":\"3\"})))\n",
    "    #41개의 location 정보를 저장할 List 선언\n",
    "    location_list = list()\n",
    "    for location in soup.find_all('location',attrs={\"wl_ver\":\"3\"}):\n",
    "        #1개의 location 정보를 저장할 Dict 선언\n",
    "        location_dict = dict()\n",
    "        \n",
    "        location_dict['province'] = location.find('province').text\n",
    "        location_dict['city'] = location.find('city').text\n",
    "        \n",
    "        # location 하위에 있는 13개의 data 정보를 저장할 List 선언\n",
    "        data_list = []\n",
    "        for data in location.find_all('data'):\n",
    "            \"\"\"\n",
    "            <data>\n",
    "                <mode>A02</mode>\n",
    "                <tmef>2021-10-10 00:00</tmef>\n",
    "                <wf>구름많음</wf>\n",
    "                <tmn>20</tmn>\n",
    "                <tmx>25</tmx>\n",
    "                <reliability></reliability>\n",
    "                <rnst>30</rnst>\n",
    "            </data>\n",
    "            \"\"\"\n",
    "            #1개의 data 정보를 저장할 Dict 선언\n",
    "            data_dict = {}\n",
    "            data_dict['mode'] = data.find('mode').text\n",
    "            data_dict['tmef'] = data.find('tmef').text\n",
    "            data_dict['wf'] = data.find('wf').text\n",
    "            data_dict['tmn'] = data.find('tmn').text\n",
    "            data_dict['tmx'] = data.find('tmx').text\n",
    "            #data_dict를 data_list에 append\n",
    "            data_list.append(data_dict)\n",
    "        \n",
    "        #data_list를 location_dict에 저장하기\n",
    "        location_dict['datas'] = data_list\n",
    "        #print(location_dict)\n",
    "        \n",
    "        #location_dict를 location_list에 append\n",
    "        location_list.append(location_dict)\n",
    "\n",
    "print(len(location_list))        \n",
    "print(location_list[0:2])"
   ]
  },
  {
   "cell_type": "code",
   "execution_count": null,
   "id": "eee143b7",
   "metadata": {},
   "outputs": [],
   "source": []
  },
  {
   "cell_type": "code",
   "execution_count": null,
   "id": "a51ab550",
   "metadata": {},
   "outputs": [],
   "source": []
  }
 ],
 "metadata": {
  "kernelspec": {
   "display_name": "Python 3",
   "language": "python",
   "name": "python3"
  },
  "language_info": {
   "codemirror_mode": {
    "name": "ipython",
    "version": 3
   },
   "file_extension": ".py",
   "mimetype": "text/x-python",
   "name": "python",
   "nbconvert_exporter": "python",
   "pygments_lexer": "ipython3",
   "version": "3.8.8"
  }
 },
 "nbformat": 4,
 "nbformat_minor": 5
}
