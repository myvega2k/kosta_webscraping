{
 "cells": [
  {
   "cell_type": "markdown",
   "id": "a14fe650",
   "metadata": {},
   "source": [
    "### Melon 100 Chart 스크래핑\n",
    "* 100곡의 노래의 제목과 Song ID 파싱\n",
    "* Song ID로 상세페이지로 100번 요청을 해서 상세정보를 파싱\n",
    "* 100곡의 상세정보를 json file에 저장\n",
    "* json file을 표데이터를 만들기\n",
    "* 표데이터를 DB에 저장"
   ]
  },
  {
   "cell_type": "code",
   "execution_count": 1,
   "id": "77f98706",
   "metadata": {},
   "outputs": [
    {
     "name": "stdout",
     "output_type": "stream",
     "text": [
      "200\n",
      "1\n",
      "101\n",
      "200\n",
      "100\n",
      "100\n"
     ]
    },
    {
     "data": {
      "text/plain": [
       "[{'title': 'Savage',\n",
       "  'song_id': '34041584',\n",
       "  'song_url': 'https://www.melon.com/song/detail.htm?songId=34041584'},\n",
       " {'title': 'STAY',\n",
       "  'song_id': '33658563',\n",
       "  'song_url': 'https://www.melon.com/song/detail.htm?songId=33658563'},\n",
       " {'title': 'My Universe',\n",
       "  'song_id': '33998510',\n",
       "  'song_url': 'https://www.melon.com/song/detail.htm?songId=33998510'}]"
      ]
     },
     "execution_count": 1,
     "metadata": {},
     "output_type": "execute_result"
    }
   ],
   "source": [
    "import requests\n",
    "from bs4 import BeautifulSoup\n",
    "import re\n",
    "\n",
    "url = 'https://www.melon.com/chart/index.htm'\n",
    "req_header = {\n",
    "    #browser 정보\n",
    "    'user-agent':'Mozilla/5.0 (Windows NT 10.0; Win64; x64) AppleWebKit/537.36 (KHTML, like Gecko) Chrome/94.0.4606.71 Safari/537.36'\n",
    "}\n",
    "res = requests.get(url, headers=req_header)\n",
    "print(res.status_code)\n",
    "if res.ok:\n",
    "    soup = BeautifulSoup(res.text, 'html.parser')\n",
    "    print(len(soup.select(\"div#tb_list\"))) #1개\n",
    "    print(len(soup.select(\"div#tb_list tr\"))) #101개\n",
    "    print(len(soup.select(\"div#tb_list tr div.wrap_song_info\"))) #200개\n",
    "    print(len(soup.select(\"div#tb_list tr div.wrap_song_info a[href*='playSong']\"))) #100개\n",
    "    \n",
    "    atag_list = soup.select(\"div#tb_list tr div.wrap_song_info a[href*='playSong']\")\n",
    "    \n",
    "    #100곡의 Song 정보를 저장할 List 선언\n",
    "    song_list = []\n",
    "    \n",
    "    for idx,atag in enumerate(atag_list,1):\n",
    "        #1곡의 Song 정보를 저장할 Dict 선언\n",
    "        song_dict = {}\n",
    "        \n",
    "        title = atag.text\n",
    "        href = atag['href']\n",
    "        \n",
    "        matched = re.search(r'(\\d+)\\);', href)\n",
    "        song_id = None\n",
    "        if matched:\n",
    "            song_id = matched.group(1)\n",
    "        \n",
    "        song_url = f'https://www.melon.com/song/detail.htm?songId={song_id}'\n",
    "        #print(f'{idx}위, {title} {song_url}')\n",
    "        \n",
    "        song_dict['title'] = title    \n",
    "        song_dict['song_id'] = song_id\n",
    "        song_dict['song_url'] = song_url\n",
    "        \n",
    "        song_list.append(song_dict)\n",
    "\n",
    "print(len(song_list))\n",
    "song_list[0:3]"
   ]
  },
  {
   "cell_type": "code",
   "execution_count": 7,
   "id": "0bb4978a",
   "metadata": {},
   "outputs": [
    {
     "name": "stdout",
     "output_type": "stream",
     "text": [
      "1 200\n",
      "{'곡명': 'Savage', '가수': 'aespa', '앨범': 'Savage - The 1st Mini Album', '발매일': '2021.10.05', '장르': '댄스', '좋아요': 51031}\n",
      "2 200\n",
      "{'곡명': 'STAY', '가수': 'The Kid LAROI', '앨범': 'Stay', '발매일': '2021.07.09', '장르': 'POP', '좋아요': 165131}\n",
      "3 200\n",
      "{'곡명': 'My Universe', '가수': 'Coldplay', '앨범': 'My Universe', '발매일': '2021.09.24', '장르': 'POP', '좋아요': 104742}\n"
     ]
    }
   ],
   "source": [
    "import requests\n",
    "from bs4 import BeautifulSoup\n",
    "import re\n",
    "\n",
    "req_header = {\n",
    "    #browser 정보\n",
    "    'user-agent':'Mozilla/5.0 (Windows NT 10.0; Win64; x64) AppleWebKit/537.36 (KHTML, like Gecko) Chrome/94.0.4606.71 Safari/537.36'\n",
    "}\n",
    "\n",
    "song_detail_list = []\n",
    "for idx,song in enumerate(song_list[0:3],1):\n",
    "    url = song['song_url']\n",
    "    res = requests.get(url, headers=req_header)\n",
    "    print(idx, res.status_code)\n",
    "    \n",
    "    song_detail_dict = {}\n",
    "    if res.ok:\n",
    "        soup = BeautifulSoup(res.text, 'html.parser')\n",
    "        \n",
    "        song_detail_dict['곡명'] = song['title']\n",
    "        \n",
    "        span_tag = soup.select(\"a[href*='goArtistDetail'] span\")\n",
    "        if span_tag:\n",
    "            song_detail_dict['가수'] = span_tag[0].text\n",
    "         \n",
    "        dd_tag = soup.select(\"div.meta dd\")\n",
    "        if dd_tag:    \n",
    "            song_detail_dict['앨범'] = dd_tag[0].text\n",
    "            song_detail_dict['발매일'] = dd_tag[1].text\n",
    "            song_detail_dict['장르'] = dd_tag[2].text\n",
    "        \n",
    "        song_id = song['song_id']\n",
    "        like_url = f'https://www.melon.com/commonlike/getSongLike.json?contsIds={song_id}'\n",
    "        like_res = requests.get(like_url, headers=req_header)\n",
    "        #print(like_res.status_code)    \n",
    "        #print(like_res.json()['contsLike'][0]['SUMMCNT'])\n",
    "        like_cnt = like_res.json()['contsLike'][0]['SUMMCNT']\n",
    "        song_detail_dict['좋아요'] = like_cnt\n",
    "        \n",
    "    print(song_detail_dict)"
   ]
  }
 ],
 "metadata": {
  "kernelspec": {
   "display_name": "Python 3",
   "language": "python",
   "name": "python3"
  },
  "language_info": {
   "codemirror_mode": {
    "name": "ipython",
    "version": 3
   },
   "file_extension": ".py",
   "mimetype": "text/x-python",
   "name": "python",
   "nbconvert_exporter": "python",
   "pygments_lexer": "ipython3",
   "version": "3.8.8"
  }
 },
 "nbformat": 4,
 "nbformat_minor": 5
}