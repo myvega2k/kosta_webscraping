{
 "cells": [
  {
   "cell_type": "markdown",
   "id": "7038c575",
   "metadata": {},
   "source": [
    "### Melon 100 Chart 스크래핑\n",
    "* 100곡의 노래의 제목과 Song ID 파싱\n",
    "* Song ID로 상세페이지로 100번 요청을 해서 상세정보를 파싱\n",
    "* 100곡의 상세정보를 json file에 저장\n",
    "* json file을 표데이터를 만들기\n",
    "* 표데이터를 DB에 저장"
   ]
  },
  {
   "cell_type": "code",
   "execution_count": 25,
   "id": "81a265f8",
   "metadata": {},
   "outputs": [
    {
     "name": "stdout",
     "output_type": "stream",
     "text": [
      "200\n",
      "1\n",
      "101\n",
      "200\n",
      "100\n",
      "100\n"
     ]
    },
    {
     "data": {
      "text/plain": [
       "[{'title': 'Savage',\n",
       "  'song_id': '34041584',\n",
       "  'song_url': 'https://www.melon.com/song/detail.htm?songId=34041584'},\n",
       " {'title': 'STAY',\n",
       "  'song_id': '33658563',\n",
       "  'song_url': 'https://www.melon.com/song/detail.htm?songId=33658563'},\n",
       " {'title': '신호등',\n",
       "  'song_id': '33480898',\n",
       "  'song_url': 'https://www.melon.com/song/detail.htm?songId=33480898'}]"
      ]
     },
     "execution_count": 25,
     "metadata": {},
     "output_type": "execute_result"
    }
   ],
   "source": [
    "import requests\n",
    "from bs4 import BeautifulSoup\n",
    "import re\n",
    "\n",
    "url = 'https://www.melon.com/chart/index.htm'\n",
    "req_header = {\n",
    "    #browser 정보\n",
    "    'user-agent':'Mozilla/5.0 (Windows NT 10.0; Win64; x64) AppleWebKit/537.36 (KHTML, like Gecko) Chrome/94.0.4606.71 Safari/537.36'\n",
    "}\n",
    "res = requests.get(url, headers=req_header)\n",
    "print(res.status_code)\n",
    "if res.ok:\n",
    "    soup = BeautifulSoup(res.text, 'html.parser')\n",
    "    print(len(soup.select(\"div#tb_list\"))) #1개\n",
    "    print(len(soup.select(\"div#tb_list tr\"))) #101개\n",
    "    print(len(soup.select(\"div#tb_list tr div.wrap_song_info\"))) #200개\n",
    "    print(len(soup.select(\"div#tb_list tr div.wrap_song_info a[href*='playSong']\"))) #100개\n",
    "    \n",
    "    atag_list = soup.select(\"div#tb_list tr div.wrap_song_info a[href*='playSong']\")\n",
    "    \n",
    "    #100곡의 Song 정보를 저장할 List 선언\n",
    "    song_list = []\n",
    "    \n",
    "    for idx,atag in enumerate(atag_list,1):\n",
    "        #1곡의 Song 정보를 저장할 Dict 선언\n",
    "        song_dict = {}\n",
    "        \n",
    "        title = atag.text\n",
    "        href = atag['href']\n",
    "        \n",
    "        matched = re.search(r'(\\d+)\\);', href)\n",
    "        song_id = None\n",
    "        if matched:\n",
    "            song_id = matched.group(1)\n",
    "        \n",
    "        song_url = f'https://www.melon.com/song/detail.htm?songId={song_id}'\n",
    "        #print(f'{idx}위, {title} {song_url}')\n",
    "        \n",
    "        song_dict['title'] = title    \n",
    "        song_dict['song_id'] = song_id\n",
    "        song_dict['song_url'] = song_url\n",
    "        \n",
    "        song_list.append(song_dict)\n",
    "\n",
    "print(len(song_list))\n",
    "song_list[0:3]"
   ]
  },
  {
   "cell_type": "code",
   "execution_count": 28,
   "id": "c3bed0ac",
   "metadata": {},
   "outputs": [
    {
     "name": "stdout",
     "output_type": "stream",
     "text": [
      "1 200\n",
      "2 200\n"
     ]
    }
   ],
   "source": [
    "import requests\n",
    "from bs4 import BeautifulSoup\n",
    "import re\n",
    "\n",
    "req_header = {\n",
    "    #browser 정보\n",
    "    'user-agent':'Mozilla/5.0 (Windows NT 10.0; Win64; x64) AppleWebKit/537.36 (KHTML, like Gecko) Chrome/94.0.4606.71 Safari/537.36'\n",
    "}\n",
    "\n",
    "for idx,song in enumerate(song_list[0:2],1):\n",
    "    url = song['song_url']\n",
    "    res = requests.get(url, headers=req_header)\n",
    "    print(idx, res.status_code)\n",
    "    "
   ]
  }
 ],
 "metadata": {
  "kernelspec": {
   "display_name": "Python 3",
   "language": "python",
   "name": "python3"
  },
  "language_info": {
   "codemirror_mode": {
    "name": "ipython",
    "version": 3
   },
   "file_extension": ".py",
   "mimetype": "text/x-python",
   "name": "python",
   "nbconvert_exporter": "python",
   "pygments_lexer": "ipython3",
   "version": "3.8.8"
  }
 },
 "nbformat": 4,
 "nbformat_minor": 5
}
