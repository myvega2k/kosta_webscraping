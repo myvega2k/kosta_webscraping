{
 "cells": [
  {
   "cell_type": "markdown",
   "id": "a14fe650",
   "metadata": {},
   "source": [
    "### Melon 100 Chart 스크래핑\n",
    "* 100곡의 노래의 제목과 Song ID 파싱\n",
    "* Song ID로 상세페이지로 100번 요청을 해서 상세정보를 파싱\n",
    "* 100곡의 상세정보를 json file에 저장\n",
    "* json file을 표데이터를 만들기\n",
    "* 표데이터를 DB에 저장"
   ]
  },
  {
   "cell_type": "code",
   "execution_count": 1,
   "id": "77f98706",
   "metadata": {},
   "outputs": [
    {
     "name": "stdout",
     "output_type": "stream",
     "text": [
      "200\n",
      "1\n",
      "101\n",
      "200\n",
      "100\n",
      "100\n"
     ]
    },
    {
     "data": {
      "text/plain": [
       "[{'title': 'Savage',\n",
       "  'song_id': '34041584',\n",
       "  'song_url': 'https://www.melon.com/song/detail.htm?songId=34041584'},\n",
       " {'title': 'STAY',\n",
       "  'song_id': '33658563',\n",
       "  'song_url': 'https://www.melon.com/song/detail.htm?songId=33658563'},\n",
       " {'title': 'My Universe',\n",
       "  'song_id': '33998510',\n",
       "  'song_url': 'https://www.melon.com/song/detail.htm?songId=33998510'}]"
      ]
     },
     "execution_count": 1,
     "metadata": {},
     "output_type": "execute_result"
    }
   ],
   "source": [
    "import requests\n",
    "from bs4 import BeautifulSoup\n",
    "import re\n",
    "\n",
    "url = 'https://www.melon.com/chart/index.htm'\n",
    "req_header = {\n",
    "    #browser 정보\n",
    "    'user-agent':'Mozilla/5.0 (Windows NT 10.0; Win64; x64) AppleWebKit/537.36 (KHTML, like Gecko) Chrome/94.0.4606.71 Safari/537.36'\n",
    "}\n",
    "res = requests.get(url, headers=req_header)\n",
    "print(res.status_code)\n",
    "if res.ok:\n",
    "    soup = BeautifulSoup(res.text, 'html.parser')\n",
    "    print(len(soup.select(\"div#tb_list\"))) #1개\n",
    "    print(len(soup.select(\"div#tb_list tr\"))) #101개\n",
    "    print(len(soup.select(\"div#tb_list tr div.wrap_song_info\"))) #200개\n",
    "    print(len(soup.select(\"div#tb_list tr div.wrap_song_info a[href*='playSong']\"))) #100개\n",
    "    \n",
    "    atag_list = soup.select(\"div#tb_list tr div.wrap_song_info a[href*='playSong']\")\n",
    "    \n",
    "    #100곡의 Song 정보를 저장할 List 선언\n",
    "    song_list = []\n",
    "    \n",
    "    for idx,atag in enumerate(atag_list,1):\n",
    "        #1곡의 Song 정보를 저장할 Dict 선언\n",
    "        song_dict = {}\n",
    "        \n",
    "        title = atag.text\n",
    "        href = atag['href']\n",
    "        \n",
    "        matched = re.search(r'(\\d+)\\);', href)\n",
    "        song_id = None\n",
    "        if matched:\n",
    "            song_id = matched.group(1)\n",
    "        \n",
    "        song_url = f'https://www.melon.com/song/detail.htm?songId={song_id}'\n",
    "        #print(f'{idx}위, {title} {song_url}')\n",
    "        \n",
    "        song_dict['title'] = title    \n",
    "        song_dict['song_id'] = song_id\n",
    "        song_dict['song_url'] = song_url\n",
    "        \n",
    "        song_list.append(song_dict)\n",
    "\n",
    "print(len(song_list))\n",
    "song_list[0:3]"
   ]
  },
  {
   "cell_type": "code",
   "execution_count": 14,
   "id": "0bb4978a",
   "metadata": {},
   "outputs": [
    {
     "name": "stdout",
     "output_type": "stream",
     "text": [
      "1 200\n",
      "2 200\n",
      "3 200\n",
      "3\n"
     ]
    },
    {
     "data": {
      "text/plain": [
       "[{'곡명': 'Savage',\n",
       "  '가수': 'aespa',\n",
       "  '앨범': 'Savage - The 1st Mini Album',\n",
       "  '발매일': '2021.10.05',\n",
       "  '장르': '댄스',\n",
       "  '좋아요': 51093,\n",
       "  '가사': \"Oh my gosh!Don't you know I’m a Savage?I’m a Killa 너를 깰 ae아직도 가리고 환각을 펼친 너팰라 We Holler두렵지 않아 너 너 Hit you harder날 밀어 넣어 Deep fake on me준비가 안된 무대로몰아넣어 Fake on meGot everybody mock up to me수치를 느끼게 멘탈을 흔들어놔싸늘한 관중 무너져 ae더는 널 못 참아 Say No!두고 봐 난 좀 Savage너의 Dirty 한 Play더는 두고 볼 수 없어나를 무너뜨리고 싶은네 환각들이 점점너를 구축할 이유가 돼I’m a Savage널 부셔 깨 줄게 OhI’m a Savage널 짓밟아 줄게 OhGet me get me nowGet me get me now(Zu Zu Zu Zu)지금 나를 잡아아님 난 더 Savage(Zu Zu Zu Zu)Get me get me nowGet me get me now(Zu Zu Zu Zu)이젠 내가 너를 잡아Now I'm a SavageGimme gimme nowGimme gimme now(Zu Zu Zu Zu)너의 말이 보여네 약점 Algorithm(Zu Zu Zu Zu)김이 김이 나김이 김이 나(Zu Zu Zu Zu)MA ae SYNK 방해 말고꺼져 Savage(Zu Zu Zu Zu)Mmmh Everybody looks at me익숙하잖니양보해 참아야만 돼어른스럽게I'm locked up in the glass난 놀고 싶은데너무 끔찍한 기대그런 환각 틀에 나를 가둬 놔I'm going 광야로 Game in물리쳐 교묘한 이간질And my ae로부터멀어지게 만들회심찬 네 TrickWe gone 광야로 Game in베어버려 내 빛의 검데미지를 입은 네게인정사정 볼 것 없는 펀치그것 봐 난 좀 Savage너의 재생력을 막아흐트러놔 빼놔잊지 말아 여긴 바로 광야너의 시공간은 내 뜻대로Make It break itI’m a Savage널 부셔 깨 줄게 OhI’m a Savage널 짓밟아 줄게 OhGet me get me nowGet me get me now(Zu Zu Zu Zu)지금 나를 잡아아님 난 더 Savage(Zu Zu Zu Zu)Get me get me nowGet me get me now(Zu Zu Zu Zu)이젠 내가 너를 잡아Now I'm a SavageGimme gimme nowGimme gimme now(Zu Zu Zu Zu)너의 말이 보여네 약점 Algorithm(Zu Zu Zu Zu)김이 김이 나김이 김이 나(Zu Zu Zu Zu)MA ae SYNK 방해 말고꺼져 Savage(Zu Zu Zu Zu)위기에 빠진 날 지켜준 건 너였어My naevis we love UMy victory 하나의 SYNK DIVE모두 네가 만들어준 기회란 거I know your sacrifices OhMy naevis we love U알아 우린 반드시네 기억들을 찾아줄게우린 만나 꼭 부활 그다음SavageSavageYeah~Get me get me nowGet me get me now(Zu Zu Zu Zu)지금 나를 잡아아님 난 더 Savage(Zu Zu Zu Zu)Get me get me nowGet me get me now(Zu Zu Zu Zu)이젠 내가 너를 잡아Now I'm a SavageGimme gimme nowGimme gimme now(Zu Zu Zu Zu)너의 말이 보여네 약점 Algorithm(Zu Zu Zu Zu)김이 김이 나김이 김이 나(Zu Zu Zu Zu)MA ae SYNK 방해 말고꺼져 Savage(Zu Zu Zu Zu)Ha ha, What?\"},\n",
       " {'곡명': 'STAY',\n",
       "  '가수': 'The Kid LAROI',\n",
       "  '앨범': 'Stay',\n",
       "  '발매일': '2021.07.09',\n",
       "  '장르': 'POP',\n",
       "  '좋아요': 165137,\n",
       "  '가사': \"I do the same thing I told youthat I never wouldI told you I'd changeeven when I knew I never couldI know that I can't findnobody elseas good as youI need you to stayneed you to stay hey OhI get drunk wake upI'm wasted stillI realize the timethat I wasted hereI feel like you can'tfeel the way I feelOh I'll be fucked upif you can't be right hereOh ooh-woahOh ooh-woah ooh-woahOh ooh-woahOh ooh-woah ooh-woahOh ooh-woahOh ooh-woah ooh-woahOh I'll be fucked upif you can't be right hereI do the same thing I told youthat I never wouldI told you I'd changeeven when I knew I never couldI know that I can't findnobody elseas good as youI need you to stayneed you to stay heyI do the same thing I told youthat I never wouldI told you I'd changeeven when I knew I never couldI know that I can't findnobody elseas good as youI need you to stayneed you to stay heyWhen I'm away from youI miss your touch OohYou're the reasonI believe in love OohIt's been difficultfor me to trust OohAnd I'm afraidthat I'ma fuck it up OohAin't no waythat I can leave you stranded'Cause you ain't ever left meempty-handedAnd you know that I knowthat I can't live without youSo baby stayOh ooh-woahOh ooh-woah ooh-woahOh ooh-woahOh ooh-woah ooh-woahOh ooh-woahOh ooh-woah ooh-woahI'll be fucked upif you can't be right hereI do the same thing I told youthat I never wouldI told you I'd changeeven when I knew I never couldI know that I can't findnobody elseas good as youI need you to stayneed you to stay heyI do the same thingI told you that I never wouldI told you I'd changeeven when I knew I never couldI know that I can't findnobody elseas good as youI need you to stayneed you to stay heyWoah-ohI need you to stayneed you to stay hey\"},\n",
       " {'곡명': 'My Universe',\n",
       "  '가수': 'Coldplay',\n",
       "  '앨범': 'My Universe',\n",
       "  '발매일': '2021.09.24',\n",
       "  '장르': 'POP',\n",
       "  '좋아요': 104765,\n",
       "  '가사': 'You, you are my universe andI just want to put you firstAnd you, you are my universe, and I…In the night I lie and look up at youWhen the morning comes I watch you riseThere’s a paradise they couldn’t captureThat bright infinity inside your eyes매일 밤 네게 날아가 (가)꿈이란 것도 잊은 채나 웃으며 너를 만나 (나)Never ending forever babyYou, you are my universe andI just want to put you firstAnd you, you are my universe, andYou make my world light up inside어둠이 내겐 더 편했었지길어진 그림자 속에서 (eyes)And they said that we can’t be togetherBecauseBecause we come from different sidesYou, you are my universe andI just want to put you firstAnd you, you are my universe, andYou make my world light up insideMy universe (do do, do do)My universe (do do, do do)My universe (do do, do do)(you make my world)You make my world light up insideMake my world light up inside나를 밝혀주는 건너란 사랑으로 수 놓아진 별내 우주의 넌또 다른 세상을 만들어 주는 걸너는 내 별이자 나의 우주니까지금 이 시련도 결국엔 잠시니까너는 언제까지나 지금처럼 밝게만 빛나줘우리는 너를 따라 이 긴 밤을 수놓을 거야너와 함께 날아가 (가)When I’m without you I’m crazy자 어서 내 손을 잡아 (아)We are made of each other babyYou, you are my universe andI just want to put you firstAnd you, you are my universe, andYou make my world light up insideMy universe (you, you are)My universe (I just want)My universe (you, you are)My universe, and IMy universe'}]"
      ]
     },
     "execution_count": 14,
     "metadata": {},
     "output_type": "execute_result"
    }
   ],
   "source": [
    "import requests\n",
    "from bs4 import BeautifulSoup\n",
    "import re\n",
    "\n",
    "req_header = {\n",
    "    #browser 정보\n",
    "    'user-agent':'Mozilla/5.0 (Windows NT 10.0; Win64; x64) AppleWebKit/537.36 (KHTML, like Gecko) Chrome/94.0.4606.71 Safari/537.36'\n",
    "}\n",
    "\n",
    "song_detail_list = []\n",
    "for idx,song in enumerate(song_list[0:3],1):\n",
    "    url = song['song_url']\n",
    "    res = requests.get(url, headers=req_header)\n",
    "    print(idx, res.status_code)\n",
    "    \n",
    "    song_detail_dict = {}\n",
    "    if res.ok:\n",
    "        soup = BeautifulSoup(res.text, 'html.parser')\n",
    "        \n",
    "        song_detail_dict['곡명'] = song['title']\n",
    "        \n",
    "        span_tag = soup.select(\"a[href*='goArtistDetail'] span\")\n",
    "        if span_tag:\n",
    "            song_detail_dict['가수'] = span_tag[0].text\n",
    "         \n",
    "        dd_tag = soup.select(\"div.meta dd\")\n",
    "        if dd_tag:    \n",
    "            song_detail_dict['앨범'] = dd_tag[0].text\n",
    "            song_detail_dict['발매일'] = dd_tag[1].text\n",
    "            song_detail_dict['장르'] = dd_tag[2].text\n",
    "        \n",
    "        song_id = song['song_id']\n",
    "        like_url = f'https://www.melon.com/commonlike/getSongLike.json?contsIds={song_id}'\n",
    "        like_res = requests.get(like_url, headers=req_header)\n",
    "        #print(like_res.status_code)    \n",
    "        #print(like_res.json()['contsLike'][0]['SUMMCNT'])\n",
    "        like_cnt = like_res.json()['contsLike'][0]['SUMMCNT']\n",
    "        song_detail_dict['좋아요'] = like_cnt\n",
    "        \n",
    "        div_tag = soup.select('div#d_video_summary')\n",
    "        if div_tag:\n",
    "            lyric = div_tag[0].text\n",
    "            #print(lyric)\n",
    "        else:\n",
    "            lyric = ''\n",
    "        #정규표현식 Pattern 생성\n",
    "        reg_exp = re.compile(r'[\\n\\r\\t]')\n",
    "        #Pattern과 일치하는 문자열을 empty string으로 대체해라\n",
    "        song_detail_dict['가사'] = reg_exp.sub('', lyric.strip())\n",
    "        \n",
    "        #1개의 Song정보를 담고 있는 dict를 list에 추가\n",
    "        song_detail_list.append(song_detail_dict)\n",
    "        \n",
    "print(len(song_detail_list))\n",
    "song_detail_list[0:3]"
   ]
  }
 ],
 "metadata": {
  "kernelspec": {
   "display_name": "Python 3",
   "language": "python",
   "name": "python3"
  },
  "language_info": {
   "codemirror_mode": {
    "name": "ipython",
    "version": 3
   },
   "file_extension": ".py",
   "mimetype": "text/x-python",
   "name": "python",
   "nbconvert_exporter": "python",
   "pygments_lexer": "ipython3",
   "version": "3.8.8"
  }
 },
 "nbformat": 4,
 "nbformat_minor": 5
}