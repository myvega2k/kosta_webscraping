{
 "cells": [
  {
   "cell_type": "markdown",
   "id": "2938dbeb",
   "metadata": {},
   "source": [
    "###### 함수선언\n",
    "* 값을 swapping 해주는 함수\n",
    "* tuple을 반환하는 함수"
   ]
  },
  {
   "cell_type": "code",
   "execution_count": 6,
   "id": "ae9c3a30",
   "metadata": {},
   "outputs": [],
   "source": [
    "# swapping 해주는 함수\n",
    "def swap(a,b):\n",
    "    return (b,a)\n"
   ]
  },
  {
   "cell_type": "code",
   "execution_count": 7,
   "id": "154d9a38",
   "metadata": {},
   "outputs": [
    {
     "data": {
      "text/plain": [
       "(20, 10)"
      ]
     },
     "execution_count": 7,
     "metadata": {},
     "output_type": "execute_result"
    }
   ],
   "source": [
    "swap(10,20)"
   ]
  },
  {
   "cell_type": "code",
   "execution_count": 9,
   "id": "7caa8106",
   "metadata": {},
   "outputs": [
    {
     "name": "stdout",
     "output_type": "stream",
     "text": [
      "50 40\n"
     ]
    }
   ],
   "source": [
    "a,b = swap(40,50)\n",
    "print(a,b)"
   ]
  },
  {
   "cell_type": "code",
   "execution_count": 12,
   "id": "ccfc64b7",
   "metadata": {},
   "outputs": [
    {
     "name": "stdout",
     "output_type": "stream",
     "text": [
      "파일명은 aaa.jpg 이고 파일명의 길이는 7\n"
     ]
    }
   ],
   "source": [
    "file_name = 'aaa.jpg'\n",
    "print('파일명은 {} 이고 파일명의 길이는 {}'.format(file_name, len(file_name)))"
   ]
  },
  {
   "cell_type": "code",
   "execution_count": 14,
   "id": "d10164f5",
   "metadata": {},
   "outputs": [
    {
     "name": "stdout",
     "output_type": "stream",
     "text": [
      "파일명은 aaa.jpg 이고 파일명의 길이는 7\n"
     ]
    }
   ],
   "source": [
    "print(f'파일명은 {file_name} 이고 파일명의 길이는 {len(file_name)}')"
   ]
  },
  {
   "cell_type": "code",
   "execution_count": 18,
   "id": "57b77a16",
   "metadata": {},
   "outputs": [
    {
     "name": "stdout",
     "output_type": "stream",
     "text": [
      "1 a\n",
      "2 b\n",
      "3 c\n"
     ]
    }
   ],
   "source": [
    "my_list = ['a','b','c']\n",
    "for idx,val in enumerate(my_list,1):\n",
    "    print(idx, val)"
   ]
  },
  {
   "cell_type": "code",
   "execution_count": 23,
   "id": "b9bfb612",
   "metadata": {},
   "outputs": [
    {
     "name": "stdout",
     "output_type": "stream",
     "text": [
      "Yesterday all my troubles seemed so far away.\n",
      "Now it looks as though they're here to stay.\n",
      "Oh, I believe in yesterday.\n",
      "\n",
      "Suddenly I'm not half the man I used to be.\n",
      "There's a shadow hanging over me.\n",
      "Oh, yesterday came suddenly.\n",
      "\n"
     ]
    }
   ],
   "source": [
    "my_text = \"\"\"Yesterday all my troubles seemed so far away.\n",
    "Now it looks as though they're here to stay.\n",
    "Oh, I believe in yesterday.\n",
    "\n",
    "Suddenly I'm not half the man I used to be.\n",
    "There's a shadow hanging over me.\n",
    "Oh, yesterday came suddenly.\n",
    "\"\"\"\n",
    "print(my_text)"
   ]
  },
  {
   "cell_type": "code",
   "execution_count": 34,
   "id": "013e2754",
   "metadata": {},
   "outputs": [
    {
     "name": "stdout",
     "output_type": "stream",
     "text": [
      "<class 'list'>\n"
     ]
    },
    {
     "data": {
      "text/plain": [
       "['Yesterday all my troubles seemed so far away.',\n",
       " \"Now it looks as though they're here to stay.\",\n",
       " 'Oh, I believe in yesterday.',\n",
       " '',\n",
       " \"Suddenly I'm not half the man I used to be.\",\n",
       " \"There's a shadow hanging over me.\",\n",
       " 'Oh, yesterday came suddenly.',\n",
       " '']"
      ]
     },
     "execution_count": 34,
     "metadata": {},
     "output_type": "execute_result"
    }
   ],
   "source": [
    "print(type(my_text.split(\"\\n\")))\n",
    "lyric_list = my_text.split(\"\\n\")\n",
    "lyric_list "
   ]
  },
  {
   "cell_type": "code",
   "execution_count": 35,
   "id": "08a8bee7",
   "metadata": {},
   "outputs": [
    {
     "data": {
      "text/plain": [
       "['Yesterday all my troubles seemed so far away.',\n",
       " \"Now it looks as though they're here to stay.\",\n",
       " 'Oh, I believe in yesterday.',\n",
       " \"Suddenly I'm not half the man I used to be.\",\n",
       " \"There's a shadow hanging over me.\",\n",
       " 'Oh, yesterday came suddenly.']"
      ]
     },
     "execution_count": 35,
     "metadata": {},
     "output_type": "execute_result"
    }
   ],
   "source": [
    "lyric_list2 = [lyric for lyric in lyric_list if len(lyric) != 0]\n",
    "lyric_list2"
   ]
  },
  {
   "cell_type": "code",
   "execution_count": 2,
   "id": "f8dfaee5",
   "metadata": {},
   "outputs": [
    {
     "name": "stdout",
     "output_type": "stream",
     "text": [
      "apple\n",
      "banana\n",
      "mango\n"
     ]
    },
    {
     "data": {
      "text/plain": [
       "['apple', 'banana', 'mango']"
      ]
     },
     "execution_count": 2,
     "metadata": {},
     "output_type": "execute_result"
    }
   ],
   "source": [
    "# list comprehension 적용 전\n",
    "my_list = ['apple','banana','cherry','mango']\n",
    "new_list = []\n",
    "for val in my_list:\n",
    "    if 'a' in val:\n",
    "        print(val)\n",
    "        new_list.append(val)\n",
    "\n",
    "new_list"
   ]
  },
  {
   "cell_type": "code",
   "execution_count": 3,
   "id": "b61a0467",
   "metadata": {},
   "outputs": [
    {
     "data": {
      "text/plain": [
       "['apple', 'banana', 'mango']"
      ]
     },
     "execution_count": 3,
     "metadata": {},
     "output_type": "execute_result"
    }
   ],
   "source": [
    "# list comprehension 적용 후\n",
    "afruit_list = [val for val in my_list if 'a' in val]\n",
    "afruit_list"
   ]
  },
  {
   "cell_type": "code",
   "execution_count": 5,
   "id": "3ef924e4-c409-4551-875a-bc2484055ecc",
   "metadata": {},
   "outputs": [
    {
     "name": "stdout",
     "output_type": "stream",
     "text": [
      "<class 'int'> 100\n"
     ]
    }
   ],
   "source": [
    "value = (100)\n",
    "print(type(value), value)"
   ]
  },
  {
   "cell_type": "code",
   "execution_count": 6,
   "id": "0927db39-509c-4f53-9477-a11fdbb47e31",
   "metadata": {},
   "outputs": [
    {
     "name": "stdout",
     "output_type": "stream",
     "text": [
      "<class 'tuple'> (100,)\n"
     ]
    }
   ],
   "source": [
    "value2 = (100,)\n",
    "print(type(value2), value2)"
   ]
  },
  {
   "cell_type": "code",
   "execution_count": 7,
   "id": "01674c46-fc81-4d89-83f0-375ee3554247",
   "metadata": {},
   "outputs": [
    {
     "name": "stdout",
     "output_type": "stream",
     "text": [
      "<class 'zip'>\n",
      "<zip object at 0x0000017026C1D0C0>\n"
     ]
    }
   ],
   "source": [
    "dt_list = ['정당','선거구']\n",
    "dd_list = ['민주당','서울은평구']\n",
    "\n",
    "print(type(zip(dt_list,dd_list)))\n",
    "print(zip(dt_list,dd_list))"
   ]
  },
  {
   "cell_type": "code",
   "execution_count": 9,
   "id": "c2c287c5-7579-4f6e-9e5a-08f84c6f6cca",
   "metadata": {},
   "outputs": [
    {
     "name": "stdout",
     "output_type": "stream",
     "text": [
      "<class 'tuple'>\n",
      "('정당', '민주당')\n",
      "<class 'tuple'>\n",
      "('선거구', '서울은평구')\n"
     ]
    }
   ],
   "source": [
    "for data in zip(dt_list,dd_list):\n",
    "    print(type(data))\n",
    "    print(data)"
   ]
  },
  {
   "cell_type": "code",
   "execution_count": 10,
   "id": "608e6987-37e2-409b-b284-4721d94214cf",
   "metadata": {},
   "outputs": [
    {
     "data": {
      "text/plain": [
       "{'정당': '민주당', '선거구': '서울은평구'}"
      ]
     },
     "execution_count": 10,
     "metadata": {},
     "output_type": "execute_result"
    }
   ],
   "source": [
    "data_dict = dict(zip(dt_list,dd_list))\n",
    "data_dict"
   ]
  },
  {
   "cell_type": "code",
   "execution_count": 14,
   "id": "d27f8c99-021f-45f1-bc51-6da56a8293c4",
   "metadata": {},
   "outputs": [
    {
     "name": "stdout",
     "output_type": "stream",
     "text": [
      "2021 10 8\n"
     ]
    }
   ],
   "source": [
    "from datetime import date\n",
    "\n",
    "today = date.today()\n",
    "print(today.year, today.month, today.day)\n"
   ]
  },
  {
   "cell_type": "code",
   "execution_count": 16,
   "id": "cf13e24c-3cef-4de5-ade1-67bd4ca19d29",
   "metadata": {},
   "outputs": [],
   "source": [
    "birth_1 = date(1960,6,4)\n",
    "birth_2 = date(1960,12,1)"
   ]
  },
  {
   "cell_type": "code",
   "execution_count": 19,
   "id": "ee622c55-73d0-4b0b-bc93-6c5cbe6c31cd",
   "metadata": {},
   "outputs": [
    {
     "data": {
      "text/plain": [
       "True"
      ]
     },
     "execution_count": 19,
     "metadata": {},
     "output_type": "execute_result"
    }
   ],
   "source": [
    "#True - 1, False - 0\n",
    "(7,8) < (10,2) "
   ]
  },
  {
   "cell_type": "code",
   "execution_count": 21,
   "id": "40c051cd-6445-4927-afb2-b4a32ef1fcfb",
   "metadata": {},
   "outputs": [
    {
     "data": {
      "text/plain": [
       "False"
      ]
     },
     "execution_count": 21,
     "metadata": {},
     "output_type": "execute_result"
    }
   ],
   "source": [
    "# False 0\n",
    "(today.month, today.day) < (birth_1.month, birth_1.day)"
   ]
  },
  {
   "cell_type": "code",
   "execution_count": 22,
   "id": "ef4251f8-5536-483f-890a-426486b6cb0a",
   "metadata": {},
   "outputs": [
    {
     "data": {
      "text/plain": [
       "True"
      ]
     },
     "execution_count": 22,
     "metadata": {},
     "output_type": "execute_result"
    }
   ],
   "source": [
    "# True 1\n",
    "(today.month, today.day) < (birth_2.month, birth_2.day)"
   ]
  },
  {
   "cell_type": "code",
   "execution_count": 24,
   "id": "e5ac1d46-e75d-421a-b52f-915f381dd0d8",
   "metadata": {},
   "outputs": [
    {
     "name": "stdout",
     "output_type": "stream",
     "text": [
      "61\n"
     ]
    }
   ],
   "source": [
    "age = today.year - birth_1.year - ((today.month, today.day) < (birth_1.month, birth_1.day))\n",
    "print(age)"
   ]
  },
  {
   "cell_type": "code",
   "execution_count": 25,
   "id": "645aac61-70ea-4b18-b2ce-c336bca9ea37",
   "metadata": {},
   "outputs": [
    {
     "name": "stdout",
     "output_type": "stream",
     "text": [
      "60\n"
     ]
    }
   ],
   "source": [
    "age = today.year - birth_2.year - ((today.month, today.day) < (birth_2.month, birth_2.day))\n",
    "print(age)"
   ]
  }
 ],
 "metadata": {
  "kernelspec": {
   "display_name": "Python 3",
   "language": "python",
   "name": "python3"
  },
  "language_info": {
   "codemirror_mode": {
    "name": "ipython",
    "version": 3
   },
   "file_extension": ".py",
   "mimetype": "text/x-python",
   "name": "python",
   "nbconvert_exporter": "python",
   "pygments_lexer": "ipython3",
   "version": "3.8.8"
  }
 },
 "nbformat": 4,
 "nbformat_minor": 5
}
