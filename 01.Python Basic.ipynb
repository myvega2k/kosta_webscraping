{
 "cells": [
  {
   "cell_type": "markdown",
   "id": "2938dbeb",
   "metadata": {},
   "source": [
    "###### 함수선언\n",
    "* 값을 swapping 해주는 함수\n",
    "* tuple을 반환하는 함수"
   ]
  },
  {
   "cell_type": "code",
   "execution_count": 6,
   "id": "ae9c3a30",
   "metadata": {},
   "outputs": [],
   "source": [
    "# swapping 해주는 함수\n",
    "def swap(a,b):\n",
    "    return (b,a)\n"
   ]
  },
  {
   "cell_type": "code",
   "execution_count": 7,
   "id": "154d9a38",
   "metadata": {},
   "outputs": [
    {
     "data": {
      "text/plain": [
       "(20, 10)"
      ]
     },
     "execution_count": 7,
     "metadata": {},
     "output_type": "execute_result"
    }
   ],
   "source": [
    "swap(10,20)"
   ]
  },
  {
   "cell_type": "code",
   "execution_count": 9,
   "id": "7caa8106",
   "metadata": {},
   "outputs": [
    {
     "name": "stdout",
     "output_type": "stream",
     "text": [
      "50 40\n"
     ]
    }
   ],
   "source": [
    "a,b = swap(40,50)\n",
    "print(a,b)"
   ]
  },
  {
   "cell_type": "code",
   "execution_count": 12,
   "id": "ccfc64b7",
   "metadata": {},
   "outputs": [
    {
     "name": "stdout",
     "output_type": "stream",
     "text": [
      "파일명은 aaa.jpg 이고 파일명의 길이는 7\n"
     ]
    }
   ],
   "source": [
    "file_name = 'aaa.jpg'\n",
    "print('파일명은 {} 이고 파일명의 길이는 {}'.format(file_name, len(file_name)))"
   ]
  },
  {
   "cell_type": "code",
   "execution_count": 14,
   "id": "d10164f5",
   "metadata": {},
   "outputs": [
    {
     "name": "stdout",
     "output_type": "stream",
     "text": [
      "파일명은 aaa.jpg 이고 파일명의 길이는 7\n"
     ]
    }
   ],
   "source": [
    "print(f'파일명은 {file_name} 이고 파일명의 길이는 {len(file_name)}')"
   ]
  },
  {
   "cell_type": "code",
   "execution_count": 18,
   "id": "57b77a16",
   "metadata": {},
   "outputs": [
    {
     "name": "stdout",
     "output_type": "stream",
     "text": [
      "1 a\n",
      "2 b\n",
      "3 c\n"
     ]
    }
   ],
   "source": [
    "my_list = ['a','b','c']\n",
    "for idx,val in enumerate(my_list,1):\n",
    "    print(idx, val)"
   ]
  },
  {
   "cell_type": "code",
   "execution_count": 23,
   "id": "b9bfb612",
   "metadata": {},
   "outputs": [
    {
     "name": "stdout",
     "output_type": "stream",
     "text": [
      "Yesterday all my troubles seemed so far away.\n",
      "Now it looks as though they're here to stay.\n",
      "Oh, I believe in yesterday.\n",
      "\n",
      "Suddenly I'm not half the man I used to be.\n",
      "There's a shadow hanging over me.\n",
      "Oh, yesterday came suddenly.\n",
      "\n"
     ]
    }
   ],
   "source": [
    "my_text = \"\"\"Yesterday all my troubles seemed so far away.\n",
    "Now it looks as though they're here to stay.\n",
    "Oh, I believe in yesterday.\n",
    "\n",
    "Suddenly I'm not half the man I used to be.\n",
    "There's a shadow hanging over me.\n",
    "Oh, yesterday came suddenly.\n",
    "\"\"\"\n",
    "print(my_text)"
   ]
  },
  {
   "cell_type": "code",
   "execution_count": 34,
   "id": "013e2754",
   "metadata": {},
   "outputs": [
    {
     "name": "stdout",
     "output_type": "stream",
     "text": [
      "<class 'list'>\n"
     ]
    },
    {
     "data": {
      "text/plain": [
       "['Yesterday all my troubles seemed so far away.',\n",
       " \"Now it looks as though they're here to stay.\",\n",
       " 'Oh, I believe in yesterday.',\n",
       " '',\n",
       " \"Suddenly I'm not half the man I used to be.\",\n",
       " \"There's a shadow hanging over me.\",\n",
       " 'Oh, yesterday came suddenly.',\n",
       " '']"
      ]
     },
     "execution_count": 34,
     "metadata": {},
     "output_type": "execute_result"
    }
   ],
   "source": [
    "print(type(my_text.split(\"\\n\")))\n",
    "lyric_list = my_text.split(\"\\n\")\n",
    "lyric_list "
   ]
  },
  {
   "cell_type": "code",
   "execution_count": 35,
   "id": "08a8bee7",
   "metadata": {},
   "outputs": [
    {
     "data": {
      "text/plain": [
       "['Yesterday all my troubles seemed so far away.',\n",
       " \"Now it looks as though they're here to stay.\",\n",
       " 'Oh, I believe in yesterday.',\n",
       " \"Suddenly I'm not half the man I used to be.\",\n",
       " \"There's a shadow hanging over me.\",\n",
       " 'Oh, yesterday came suddenly.']"
      ]
     },
     "execution_count": 35,
     "metadata": {},
     "output_type": "execute_result"
    }
   ],
   "source": [
    "lyric_list2 = [lyric for lyric in lyric_list if len(lyric) != 0]\n",
    "lyric_list2"
   ]
  },
  {
   "cell_type": "code",
   "execution_count": 29,
   "id": "f8dfaee5",
   "metadata": {},
   "outputs": [
    {
     "name": "stdout",
     "output_type": "stream",
     "text": [
      "apple\n",
      "banana\n",
      "mango\n"
     ]
    },
    {
     "data": {
      "text/plain": [
       "['apple', 'banana', 'mango']"
      ]
     },
     "execution_count": 29,
     "metadata": {},
     "output_type": "execute_result"
    }
   ],
   "source": [
    "# list comprehension 적용 전\n",
    "my_list = ['apple','banana','cherry','mango']\n",
    "new_list = []\n",
    "for val in my_list:\n",
    "    if 'a' in val:\n",
    "        print(val)\n",
    "        new_list.append(val)\n",
    "\n",
    "new_list"
   ]
  },
  {
   "cell_type": "code",
   "execution_count": 31,
   "id": "b61a0467",
   "metadata": {},
   "outputs": [
    {
     "data": {
      "text/plain": [
       "['apple', 'banana', 'mango']"
      ]
     },
     "execution_count": 31,
     "metadata": {},
     "output_type": "execute_result"
    }
   ],
   "source": [
    "# list comprehension 적용 후\n",
    "afruit_list = [val for val in my_list if 'a' in val]\n",
    "afruit_list"
   ]
  }
 ],
 "metadata": {
  "kernelspec": {
   "display_name": "Python 3",
   "language": "python",
   "name": "python3"
  },
  "language_info": {
   "codemirror_mode": {
    "name": "ipython",
    "version": 3
   },
   "file_extension": ".py",
   "mimetype": "text/x-python",
   "name": "python",
   "nbconvert_exporter": "python",
   "pygments_lexer": "ipython3",
   "version": "3.8.8"
  }
 },
 "nbformat": 4,
 "nbformat_minor": 5
}
