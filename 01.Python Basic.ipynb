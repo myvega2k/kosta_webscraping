{
 "cells": [
  {
   "cell_type": "markdown",
   "id": "2938dbeb",
   "metadata": {},
   "source": [
    "###### 함수선언\n",
    "* 값을 swapping 해주는 함수\n",
    "* tuple을 반환하는 함수"
   ]
  },
  {
   "cell_type": "code",
   "execution_count": 6,
   "id": "ae9c3a30",
   "metadata": {},
   "outputs": [],
   "source": [
    "# swapping 해주는 함수\n",
    "def swap(a,b):\n",
    "    return (b,a)\n"
   ]
  },
  {
   "cell_type": "code",
   "execution_count": 7,
   "id": "154d9a38",
   "metadata": {},
   "outputs": [
    {
     "data": {
      "text/plain": [
       "(20, 10)"
      ]
     },
     "execution_count": 7,
     "metadata": {},
     "output_type": "execute_result"
    }
   ],
   "source": [
    "swap(10,20)"
   ]
  },
  {
   "cell_type": "code",
   "execution_count": 9,
   "id": "7caa8106",
   "metadata": {},
   "outputs": [
    {
     "name": "stdout",
     "output_type": "stream",
     "text": [
      "50 40\n"
     ]
    }
   ],
   "source": [
    "a,b = swap(40,50)\n",
    "print(a,b)"
   ]
  },
  {
   "cell_type": "code",
   "execution_count": null,
   "id": "ccfc64b7",
   "metadata": {},
   "outputs": [],
   "source": []
  }
 ],
 "metadata": {
  "kernelspec": {
   "display_name": "Python 3",
   "language": "python",
   "name": "python3"
  },
  "language_info": {
   "codemirror_mode": {
    "name": "ipython",
    "version": 3
   },
   "file_extension": ".py",
   "mimetype": "text/x-python",
   "name": "python",
   "nbconvert_exporter": "python",
   "pygments_lexer": "ipython3",
   "version": "3.8.8"
  }
 },
 "nbformat": 4,
 "nbformat_minor": 5
}
