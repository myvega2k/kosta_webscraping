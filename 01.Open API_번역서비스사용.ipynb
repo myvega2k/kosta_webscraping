{
 "cells": [
  {
   "cell_type": "markdown",
   "id": "7ad9d3b8",
   "metadata": {},
   "source": [
    "### 네이버 파파고 번역 API 호출하기\n",
    "* urllib 를 사용한 코드"
   ]
  },
  {
   "cell_type": "code",
   "execution_count": 2,
   "id": "d67515d9",
   "metadata": {},
   "outputs": [
    {
     "name": "stdout",
     "output_type": "stream",
     "text": [
      "{\"message\":{\"@type\":\"response\",\"@service\":\"naverservice.nmt.proxy\",\"@version\":\"1.0.0\",\"result\":{\"srcLangType\":\"en\",\"tarLangType\":\"ko\",\"translatedText\":\"어제는 사랑이 정말 쉬운 게임이었다.\",\"engineType\":\"PRETRANS\",\"pivot\":null}}}\n"
     ]
    }
   ],
   "source": [
    "import os\n",
    "import sys\n",
    "import urllib.request\n",
    "\n",
    "client_id = \"1BLFbjS1kW200ArsDIp_\" # 개발자센터에서 발급받은 Client ID 값\n",
    "client_secret = \"4gWfdGsuX9\" # 개발자센터에서 발급받은 Client Secret 값\n",
    "encText = urllib.parse.quote(\"Yesterday love was such an easy game to play.\")\n",
    "data = \"source=en&target=ko&text=\" + encText\n",
    "url = \"https://openapi.naver.com/v1/papago/n2mt\"\n",
    "request = urllib.request.Request(url)\n",
    "request.add_header(\"X-Naver-Client-Id\",client_id)\n",
    "request.add_header(\"X-Naver-Client-Secret\",client_secret)\n",
    "response = urllib.request.urlopen(request, data=data.encode(\"utf-8\"))\n",
    "rescode = response.getcode()\n",
    "if(rescode==200):\n",
    "    response_body = response.read()\n",
    "    print(response_body.decode('utf-8'))\n",
    "else:\n",
    "    print(\"Error Code:\" + rescode)"
   ]
  },
  {
   "cell_type": "markdown",
   "id": "3c7cb483",
   "metadata": {},
   "source": [
    "* requests를 사용한 코드로 변경하기"
   ]
  },
  {
   "cell_type": "code",
   "execution_count": 18,
   "id": "a8f8455f",
   "metadata": {},
   "outputs": [
    {
     "name": "stdout",
     "output_type": "stream",
     "text": [
      "200\n",
      "<class 'str'>\n",
      "<class 'dict'>\n",
      "{'message': {'@type': 'response', '@service': 'naverservice.nmt.proxy', '@version': '1.0.0', 'result': {'srcLangType': 'en', 'tarLangType': 'fr', 'translatedText': \"Hier, l'amour était un jeu si facile à jouer.\", 'engineType': 'N2MT', 'pivot': None}}}\n",
      "Hier, l'amour était un jeu si facile à jouer.\n"
     ]
    }
   ],
   "source": [
    "import requests\n",
    "\n",
    "client_id = \"1BLFbjS1kW200ArsDIp_\" # 개발자센터에서 발급받은 Client ID 값\n",
    "client_secret = \"4gWfdGsuX9\" # 개발자센터에서 발급받은 Client Secret 값\n",
    "req_header = {\n",
    "    \"X-Naver-Client-Id\":client_id,\n",
    "    \"X-Naver-Client-Secret\":client_secret\n",
    "}\n",
    "url = \"https://openapi.naver.com/v1/papago/n2mt\"\n",
    "\n",
    "input_text = \"Yesterday love was such an easy game to play.\"\n",
    "req_param = {\n",
    "    \"source\":\"en\",\n",
    "    \"target\":\"ko\",\n",
    "    \"text\":input_text\n",
    "}\n",
    "res = requests.post(url, data=req_param, headers=req_header)\n",
    "print(res.status_code)\n",
    "if res.ok:\n",
    "    print(type(res.text))\n",
    "    print(type(res.json()))\n",
    "    print(res.json())\n",
    "    trans_text = res.json()['message']['result']['translatedText']\n",
    "    print(trans_text)\n",
    "else:\n",
    "    print(f'Error Code = {res.status_code}')"
   ]
  }
 ],
 "metadata": {
  "kernelspec": {
   "display_name": "Python 3",
   "language": "python",
   "name": "python3"
  },
  "language_info": {
   "codemirror_mode": {
    "name": "ipython",
    "version": 3
   },
   "file_extension": ".py",
   "mimetype": "text/x-python",
   "name": "python",
   "nbconvert_exporter": "python",
   "pygments_lexer": "ipython3",
   "version": "3.8.8"
  }
 },
 "nbformat": 4,
 "nbformat_minor": 5
}
